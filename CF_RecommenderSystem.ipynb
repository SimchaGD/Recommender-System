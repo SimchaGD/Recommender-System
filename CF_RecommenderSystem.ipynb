{
 "cells": [
  {
   "cell_type": "markdown",
   "metadata": {},
   "source": [
    "# Recommender Systems\n",
    "## Writing an Algorithm for Recommending Movies with a Collaborative Filtering\n",
    "In dit script probeer ik een algoritme te schrijven die de beoordeling van films gaat voorspellen voor mensen. Recommender Systems worden gebruikt door bedrijven zoals YouTube en Netflix om jou langer op hun platform te houden. Ook kan het gebruikt worden door online kledingwinkels die willen voorspellen welke kleding jij leuk vindt.\n",
    "\n",
    "De dataset die wordt gebruikt is de MovieLens database. Deze is te vinden op [grouplens.org/](https://grouplens.org/datasets/movielens/). Daarnaast gebruik ik de kennis die ik heb opgedaan vanuit de [Towards Data Science](https://towardsdatascience.com/various-implementations-of-collaborative-filtering-100385c6dfe0) artikel.\n",
    "\n",
    "Deze notebook is een gevolg op `CB_RecommenderSystem.ipynb` en mijn aanbeveling is om die eerst te snappen. Die geeft je in het simpel het idee van een recommender system. In deze .ipynb gaan we gebruik maken van deep learning met de library `fast.ai`. Dit geeft schijnbaar het beste model. Wel is bekend dat dit model misschien langzamer is dan bijvoorbeeld Singular Value Decomposision."
   ]
  },
  {
   "cell_type": "code",
   "execution_count": 1,
   "metadata": {},
   "outputs": [
    {
     "name": "stdout",
     "output_type": "stream",
     "text": [
      "curses is not supported on this machine (please install/reinstall curses for an optimal experience)\n"
     ]
    }
   ],
   "source": [
    "import pandas as pd \n",
    "import numpy as np\n",
    "import warnings\n",
    "import matplotlib.pyplot as plt\n",
    "\n",
    "import tensorflow as tf\n",
    "from tflearn.layers.core import input_data, fully_connected\n",
    "from tflearn.layers.estimator import regression\n",
    "import tflearn\n",
    "\n",
    "import sklearn as sk\n",
    "from sklearn.model_selection import train_test_split\n",
    "from tqdm import tqdm_notebook as tqdm\n",
    "\n",
    "%matplotlib inline\n",
    "warnings.filterwarnings('ignore')"
   ]
  },
  {
   "cell_type": "markdown",
   "metadata": {},
   "source": [
    "Het belangrijkste wat in de volgende cell gebeurd is het inlezen van de data en het samenvoegen van de twee datasets. De variable `BigDataSet` bepaald of je de grote data set pakt van 20 miljoen regels (`True`) of de kleine dataset van 100.000 regels (`False`)."
   ]
  },
  {
   "cell_type": "code",
   "execution_count": 2,
   "metadata": {
    "scrolled": true
   },
   "outputs": [
    {
     "data": {
      "text/html": [
       "<div>\n",
       "<style scoped>\n",
       "    .dataframe tbody tr th:only-of-type {\n",
       "        vertical-align: middle;\n",
       "    }\n",
       "\n",
       "    .dataframe tbody tr th {\n",
       "        vertical-align: top;\n",
       "    }\n",
       "\n",
       "    .dataframe thead th {\n",
       "        text-align: right;\n",
       "    }\n",
       "</style>\n",
       "<table border=\"1\" class=\"dataframe\">\n",
       "  <thead>\n",
       "    <tr style=\"text-align: right;\">\n",
       "      <th></th>\n",
       "      <th>userID</th>\n",
       "      <th>movieID</th>\n",
       "      <th>rating</th>\n",
       "      <th>timestamp</th>\n",
       "      <th>title</th>\n",
       "      <th>genres</th>\n",
       "    </tr>\n",
       "  </thead>\n",
       "  <tbody>\n",
       "    <tr>\n",
       "      <th>0</th>\n",
       "      <td>1</td>\n",
       "      <td>1</td>\n",
       "      <td>4.0</td>\n",
       "      <td>964982703</td>\n",
       "      <td>Toy Story (1995)</td>\n",
       "      <td>Adventure|Animation|Children|Comedy|Fantasy</td>\n",
       "    </tr>\n",
       "    <tr>\n",
       "      <th>1</th>\n",
       "      <td>5</td>\n",
       "      <td>1</td>\n",
       "      <td>4.0</td>\n",
       "      <td>847434962</td>\n",
       "      <td>Toy Story (1995)</td>\n",
       "      <td>Adventure|Animation|Children|Comedy|Fantasy</td>\n",
       "    </tr>\n",
       "    <tr>\n",
       "      <th>2</th>\n",
       "      <td>7</td>\n",
       "      <td>1</td>\n",
       "      <td>4.5</td>\n",
       "      <td>1106635946</td>\n",
       "      <td>Toy Story (1995)</td>\n",
       "      <td>Adventure|Animation|Children|Comedy|Fantasy</td>\n",
       "    </tr>\n",
       "    <tr>\n",
       "      <th>3</th>\n",
       "      <td>15</td>\n",
       "      <td>1</td>\n",
       "      <td>2.5</td>\n",
       "      <td>1510577970</td>\n",
       "      <td>Toy Story (1995)</td>\n",
       "      <td>Adventure|Animation|Children|Comedy|Fantasy</td>\n",
       "    </tr>\n",
       "    <tr>\n",
       "      <th>4</th>\n",
       "      <td>17</td>\n",
       "      <td>1</td>\n",
       "      <td>4.5</td>\n",
       "      <td>1305696483</td>\n",
       "      <td>Toy Story (1995)</td>\n",
       "      <td>Adventure|Animation|Children|Comedy|Fantasy</td>\n",
       "    </tr>\n",
       "  </tbody>\n",
       "</table>\n",
       "</div>"
      ],
      "text/plain": [
       "   userID  movieID  rating   timestamp             title  \\\n",
       "0       1        1     4.0   964982703  Toy Story (1995)   \n",
       "1       5        1     4.0   847434962  Toy Story (1995)   \n",
       "2       7        1     4.5  1106635946  Toy Story (1995)   \n",
       "3      15        1     2.5  1510577970  Toy Story (1995)   \n",
       "4      17        1     4.5  1305696483  Toy Story (1995)   \n",
       "\n",
       "                                        genres  \n",
       "0  Adventure|Animation|Children|Comedy|Fantasy  \n",
       "1  Adventure|Animation|Children|Comedy|Fantasy  \n",
       "2  Adventure|Animation|Children|Comedy|Fantasy  \n",
       "3  Adventure|Animation|Children|Comedy|Fantasy  \n",
       "4  Adventure|Animation|Children|Comedy|Fantasy  "
      ]
     },
     "execution_count": 2,
     "metadata": {},
     "output_type": "execute_result"
    }
   ],
   "source": [
    "BigDataSet = False\n",
    "DataSet = \"data\" if BigDataSet else \"data_small\"\n",
    "\n",
    "df = pd.read_csv(DataSet + '/ratings.csv', sep=',', names=['userID','movieID','rating','timestamp'], header = 0)\n",
    "movieTitles = pd.read_csv(DataSet + '/movies.csv', names=['movieID','title','genres'], header = 0)\n",
    "df = pd.merge(df, movieTitles, on='movieID')\n",
    "\n",
    "df.head()"
   ]
  },
  {
   "cell_type": "markdown",
   "metadata": {},
   "source": [
    "De volgende cell is belangrijk. Deze veranderd de kolom `genres` naar een dummie kolom. Dit zorgt er voor dat het algaritme kan rekenen met de cijfers in plaats van tekst. In `allGenres` staan alle voorkomende genres en deze wordt aangevuld met een 1 als de film (`movieID`) wel bij die genre hoort en 0 als dat niet zo is."
   ]
  },
  {
   "cell_type": "code",
   "execution_count": 3,
   "metadata": {
    "scrolled": true
   },
   "outputs": [
    {
     "data": {
      "application/vnd.jupyter.widget-view+json": {
       "model_id": "86311346a7fb4ea4a775956f31e72b95",
       "version_major": 2,
       "version_minor": 0
      },
      "text/plain": [
       "HBox(children=(IntProgress(value=0, max=9742), HTML(value='')))"
      ]
     },
     "metadata": {},
     "output_type": "display_data"
    },
    {
     "name": "stdout",
     "output_type": "stream",
     "text": [
      "\n"
     ]
    },
    {
     "data": {
      "text/html": [
       "<div>\n",
       "<style scoped>\n",
       "    .dataframe tbody tr th:only-of-type {\n",
       "        vertical-align: middle;\n",
       "    }\n",
       "\n",
       "    .dataframe tbody tr th {\n",
       "        vertical-align: top;\n",
       "    }\n",
       "\n",
       "    .dataframe thead th {\n",
       "        text-align: right;\n",
       "    }\n",
       "</style>\n",
       "<table border=\"1\" class=\"dataframe\">\n",
       "  <thead>\n",
       "    <tr style=\"text-align: right;\">\n",
       "      <th></th>\n",
       "      <th>Adventure</th>\n",
       "      <th>Animation</th>\n",
       "      <th>Children</th>\n",
       "      <th>Comedy</th>\n",
       "      <th>Fantasy</th>\n",
       "      <th>Romance</th>\n",
       "      <th>Action</th>\n",
       "      <th>Crime</th>\n",
       "      <th>Thriller</th>\n",
       "      <th>Mystery</th>\n",
       "      <th>Horror</th>\n",
       "      <th>Drama</th>\n",
       "      <th>War</th>\n",
       "      <th>Western</th>\n",
       "      <th>Sci-Fi</th>\n",
       "      <th>Musical</th>\n",
       "      <th>Film-Noir</th>\n",
       "      <th>IMAX</th>\n",
       "      <th>Documentary</th>\n",
       "      <th>(no genres listed)</th>\n",
       "    </tr>\n",
       "  </thead>\n",
       "  <tbody>\n",
       "    <tr>\n",
       "      <th>1</th>\n",
       "      <td>1</td>\n",
       "      <td>1</td>\n",
       "      <td>1</td>\n",
       "      <td>1</td>\n",
       "      <td>1</td>\n",
       "      <td>0</td>\n",
       "      <td>0</td>\n",
       "      <td>0</td>\n",
       "      <td>0</td>\n",
       "      <td>0</td>\n",
       "      <td>0</td>\n",
       "      <td>0</td>\n",
       "      <td>0</td>\n",
       "      <td>0</td>\n",
       "      <td>0</td>\n",
       "      <td>0</td>\n",
       "      <td>0</td>\n",
       "      <td>0</td>\n",
       "      <td>0</td>\n",
       "      <td>0</td>\n",
       "    </tr>\n",
       "    <tr>\n",
       "      <th>2</th>\n",
       "      <td>1</td>\n",
       "      <td>0</td>\n",
       "      <td>1</td>\n",
       "      <td>0</td>\n",
       "      <td>1</td>\n",
       "      <td>0</td>\n",
       "      <td>0</td>\n",
       "      <td>0</td>\n",
       "      <td>0</td>\n",
       "      <td>0</td>\n",
       "      <td>0</td>\n",
       "      <td>0</td>\n",
       "      <td>0</td>\n",
       "      <td>0</td>\n",
       "      <td>0</td>\n",
       "      <td>0</td>\n",
       "      <td>0</td>\n",
       "      <td>0</td>\n",
       "      <td>0</td>\n",
       "      <td>0</td>\n",
       "    </tr>\n",
       "    <tr>\n",
       "      <th>3</th>\n",
       "      <td>0</td>\n",
       "      <td>0</td>\n",
       "      <td>0</td>\n",
       "      <td>1</td>\n",
       "      <td>0</td>\n",
       "      <td>1</td>\n",
       "      <td>0</td>\n",
       "      <td>0</td>\n",
       "      <td>0</td>\n",
       "      <td>0</td>\n",
       "      <td>0</td>\n",
       "      <td>0</td>\n",
       "      <td>0</td>\n",
       "      <td>0</td>\n",
       "      <td>0</td>\n",
       "      <td>0</td>\n",
       "      <td>0</td>\n",
       "      <td>0</td>\n",
       "      <td>0</td>\n",
       "      <td>0</td>\n",
       "    </tr>\n",
       "    <tr>\n",
       "      <th>4</th>\n",
       "      <td>0</td>\n",
       "      <td>0</td>\n",
       "      <td>0</td>\n",
       "      <td>1</td>\n",
       "      <td>0</td>\n",
       "      <td>1</td>\n",
       "      <td>0</td>\n",
       "      <td>0</td>\n",
       "      <td>0</td>\n",
       "      <td>0</td>\n",
       "      <td>0</td>\n",
       "      <td>1</td>\n",
       "      <td>0</td>\n",
       "      <td>0</td>\n",
       "      <td>0</td>\n",
       "      <td>0</td>\n",
       "      <td>0</td>\n",
       "      <td>0</td>\n",
       "      <td>0</td>\n",
       "      <td>0</td>\n",
       "    </tr>\n",
       "    <tr>\n",
       "      <th>5</th>\n",
       "      <td>0</td>\n",
       "      <td>0</td>\n",
       "      <td>0</td>\n",
       "      <td>1</td>\n",
       "      <td>0</td>\n",
       "      <td>0</td>\n",
       "      <td>0</td>\n",
       "      <td>0</td>\n",
       "      <td>0</td>\n",
       "      <td>0</td>\n",
       "      <td>0</td>\n",
       "      <td>0</td>\n",
       "      <td>0</td>\n",
       "      <td>0</td>\n",
       "      <td>0</td>\n",
       "      <td>0</td>\n",
       "      <td>0</td>\n",
       "      <td>0</td>\n",
       "      <td>0</td>\n",
       "      <td>0</td>\n",
       "    </tr>\n",
       "  </tbody>\n",
       "</table>\n",
       "</div>"
      ],
      "text/plain": [
       "   Adventure  Animation  Children  Comedy  Fantasy  Romance  Action  Crime  \\\n",
       "1          1          1         1       1        1        0       0      0   \n",
       "2          1          0         1       0        1        0       0      0   \n",
       "3          0          0         0       1        0        1       0      0   \n",
       "4          0          0         0       1        0        1       0      0   \n",
       "5          0          0         0       1        0        0       0      0   \n",
       "\n",
       "   Thriller  Mystery  Horror  Drama  War  Western  Sci-Fi  Musical  Film-Noir  \\\n",
       "1         0        0       0      0    0        0       0        0          0   \n",
       "2         0        0       0      0    0        0       0        0          0   \n",
       "3         0        0       0      0    0        0       0        0          0   \n",
       "4         0        0       0      1    0        0       0        0          0   \n",
       "5         0        0       0      0    0        0       0        0          0   \n",
       "\n",
       "   IMAX  Documentary  (no genres listed)  \n",
       "1     0            0                   0  \n",
       "2     0            0                   0  \n",
       "3     0            0                   0  \n",
       "4     0            0                   0  \n",
       "5     0            0                   0  "
      ]
     },
     "execution_count": 3,
     "metadata": {},
     "output_type": "execute_result"
    }
   ],
   "source": [
    "cols = ['Adventure', 'Animation', 'Children', 'Comedy', 'Fantasy', 'Romance', 'Action', 'Crime', 'Thriller', 'Mystery', 'Horror', 'Drama', 'War', 'Western', 'Sci-Fi', 'Musical', 'Film-Noir', 'IMAX', 'Documentary', '(no genres listed)']\n",
    "\n",
    "dfGenres = pd.DataFrame(0, columns=cols, index = movieTitles.movieID.unique())\n",
    "with tqdm(total=len(movieTitles.movieID.unique())) as pbar:\n",
    "    for i, film in enumerate(movieTitles.movieID.unique()):\n",
    "        genres = movieTitles.loc[i, \"genres\"].split(\"|\")\n",
    "\n",
    "        dfGenres.loc[film, genres] = 1\n",
    "        pbar.update(1)\n",
    "\n",
    "dfGenres.head()"
   ]
  },
  {
   "cell_type": "code",
   "execution_count": 4,
   "metadata": {},
   "outputs": [
    {
     "data": {
      "text/plain": [
       "array(['Toy Story (1995)', 'Grumpier Old Men (1995)', 'Heat (1995)', ...,\n",
       "       'Hazard (2005)', 'Blair Witch (2016)', '31 (2016)'], dtype=object)"
      ]
     },
     "execution_count": 4,
     "metadata": {},
     "output_type": "execute_result"
    }
   ],
   "source": [
    "df.title.unique()"
   ]
  },
  {
   "cell_type": "code",
   "execution_count": 5,
   "metadata": {},
   "outputs": [
    {
     "data": {
      "text/html": [
       "<div>\n",
       "<style scoped>\n",
       "    .dataframe tbody tr th:only-of-type {\n",
       "        vertical-align: middle;\n",
       "    }\n",
       "\n",
       "    .dataframe tbody tr th {\n",
       "        vertical-align: top;\n",
       "    }\n",
       "\n",
       "    .dataframe thead th {\n",
       "        text-align: right;\n",
       "    }\n",
       "</style>\n",
       "<table border=\"1\" class=\"dataframe\">\n",
       "  <thead>\n",
       "    <tr style=\"text-align: right;\">\n",
       "      <th></th>\n",
       "      <th>userID</th>\n",
       "      <th>movieID</th>\n",
       "      <th>rating</th>\n",
       "      <th>timestamp</th>\n",
       "      <th>title</th>\n",
       "      <th>genres</th>\n",
       "      <th>Adventure</th>\n",
       "      <th>Animation</th>\n",
       "      <th>Children</th>\n",
       "      <th>Comedy</th>\n",
       "      <th>...</th>\n",
       "      <th>Horror</th>\n",
       "      <th>Drama</th>\n",
       "      <th>War</th>\n",
       "      <th>Western</th>\n",
       "      <th>Sci-Fi</th>\n",
       "      <th>Musical</th>\n",
       "      <th>Film-Noir</th>\n",
       "      <th>IMAX</th>\n",
       "      <th>Documentary</th>\n",
       "      <th>(no genres listed)</th>\n",
       "    </tr>\n",
       "  </thead>\n",
       "  <tbody>\n",
       "    <tr>\n",
       "      <th>0</th>\n",
       "      <td>1</td>\n",
       "      <td>1</td>\n",
       "      <td>4.0</td>\n",
       "      <td>964982703</td>\n",
       "      <td>Toy Story (1995)</td>\n",
       "      <td>Adventure|Animation|Children|Comedy|Fantasy</td>\n",
       "      <td>0.20</td>\n",
       "      <td>0.2</td>\n",
       "      <td>0.2</td>\n",
       "      <td>0.20</td>\n",
       "      <td>...</td>\n",
       "      <td>0.000000</td>\n",
       "      <td>0.0</td>\n",
       "      <td>0.0</td>\n",
       "      <td>0.0</td>\n",
       "      <td>0.0</td>\n",
       "      <td>0.0</td>\n",
       "      <td>0.0</td>\n",
       "      <td>0.0</td>\n",
       "      <td>0.0</td>\n",
       "      <td>0.0</td>\n",
       "    </tr>\n",
       "    <tr>\n",
       "      <th>12117</th>\n",
       "      <td>1</td>\n",
       "      <td>2389</td>\n",
       "      <td>2.0</td>\n",
       "      <td>964983094</td>\n",
       "      <td>Psycho (1998)</td>\n",
       "      <td>Crime|Horror|Thriller</td>\n",
       "      <td>0.00</td>\n",
       "      <td>0.0</td>\n",
       "      <td>0.0</td>\n",
       "      <td>0.00</td>\n",
       "      <td>...</td>\n",
       "      <td>0.333333</td>\n",
       "      <td>0.0</td>\n",
       "      <td>0.0</td>\n",
       "      <td>0.0</td>\n",
       "      <td>0.0</td>\n",
       "      <td>0.0</td>\n",
       "      <td>0.0</td>\n",
       "      <td>0.0</td>\n",
       "      <td>0.0</td>\n",
       "      <td>0.0</td>\n",
       "    </tr>\n",
       "    <tr>\n",
       "      <th>12126</th>\n",
       "      <td>1</td>\n",
       "      <td>2395</td>\n",
       "      <td>5.0</td>\n",
       "      <td>964981093</td>\n",
       "      <td>Rushmore (1998)</td>\n",
       "      <td>Comedy|Drama</td>\n",
       "      <td>0.00</td>\n",
       "      <td>0.0</td>\n",
       "      <td>0.0</td>\n",
       "      <td>0.50</td>\n",
       "      <td>...</td>\n",
       "      <td>0.000000</td>\n",
       "      <td>0.5</td>\n",
       "      <td>0.0</td>\n",
       "      <td>0.0</td>\n",
       "      <td>0.0</td>\n",
       "      <td>0.0</td>\n",
       "      <td>0.0</td>\n",
       "      <td>0.0</td>\n",
       "      <td>0.0</td>\n",
       "      <td>0.0</td>\n",
       "    </tr>\n",
       "    <tr>\n",
       "      <th>12182</th>\n",
       "      <td>1</td>\n",
       "      <td>2406</td>\n",
       "      <td>4.0</td>\n",
       "      <td>964982310</td>\n",
       "      <td>Romancing the Stone (1984)</td>\n",
       "      <td>Action|Adventure|Comedy|Romance</td>\n",
       "      <td>0.25</td>\n",
       "      <td>0.0</td>\n",
       "      <td>0.0</td>\n",
       "      <td>0.25</td>\n",
       "      <td>...</td>\n",
       "      <td>0.000000</td>\n",
       "      <td>0.0</td>\n",
       "      <td>0.0</td>\n",
       "      <td>0.0</td>\n",
       "      <td>0.0</td>\n",
       "      <td>0.0</td>\n",
       "      <td>0.0</td>\n",
       "      <td>0.0</td>\n",
       "      <td>0.0</td>\n",
       "      <td>0.0</td>\n",
       "    </tr>\n",
       "    <tr>\n",
       "      <th>776</th>\n",
       "      <td>1</td>\n",
       "      <td>70</td>\n",
       "      <td>3.0</td>\n",
       "      <td>964982400</td>\n",
       "      <td>From Dusk Till Dawn (1996)</td>\n",
       "      <td>Action|Comedy|Horror|Thriller</td>\n",
       "      <td>0.00</td>\n",
       "      <td>0.0</td>\n",
       "      <td>0.0</td>\n",
       "      <td>0.25</td>\n",
       "      <td>...</td>\n",
       "      <td>0.250000</td>\n",
       "      <td>0.0</td>\n",
       "      <td>0.0</td>\n",
       "      <td>0.0</td>\n",
       "      <td>0.0</td>\n",
       "      <td>0.0</td>\n",
       "      <td>0.0</td>\n",
       "      <td>0.0</td>\n",
       "      <td>0.0</td>\n",
       "      <td>0.0</td>\n",
       "    </tr>\n",
       "  </tbody>\n",
       "</table>\n",
       "<p>5 rows × 26 columns</p>\n",
       "</div>"
      ],
      "text/plain": [
       "       userID  movieID  rating  timestamp                       title  \\\n",
       "0           1        1     4.0  964982703            Toy Story (1995)   \n",
       "12117       1     2389     2.0  964983094               Psycho (1998)   \n",
       "12126       1     2395     5.0  964981093             Rushmore (1998)   \n",
       "12182       1     2406     4.0  964982310  Romancing the Stone (1984)   \n",
       "776         1       70     3.0  964982400  From Dusk Till Dawn (1996)   \n",
       "\n",
       "                                            genres  Adventure  Animation  \\\n",
       "0      Adventure|Animation|Children|Comedy|Fantasy       0.20        0.2   \n",
       "12117                        Crime|Horror|Thriller       0.00        0.0   \n",
       "12126                                 Comedy|Drama       0.00        0.0   \n",
       "12182              Action|Adventure|Comedy|Romance       0.25        0.0   \n",
       "776                  Action|Comedy|Horror|Thriller       0.00        0.0   \n",
       "\n",
       "       Children  Comedy         ...            Horror  Drama  War  Western  \\\n",
       "0           0.2    0.20         ...          0.000000    0.0  0.0      0.0   \n",
       "12117       0.0    0.00         ...          0.333333    0.0  0.0      0.0   \n",
       "12126       0.0    0.50         ...          0.000000    0.5  0.0      0.0   \n",
       "12182       0.0    0.25         ...          0.000000    0.0  0.0      0.0   \n",
       "776         0.0    0.25         ...          0.250000    0.0  0.0      0.0   \n",
       "\n",
       "       Sci-Fi  Musical  Film-Noir  IMAX  Documentary  (no genres listed)  \n",
       "0         0.0      0.0        0.0   0.0          0.0                 0.0  \n",
       "12117     0.0      0.0        0.0   0.0          0.0                 0.0  \n",
       "12126     0.0      0.0        0.0   0.0          0.0                 0.0  \n",
       "12182     0.0      0.0        0.0   0.0          0.0                 0.0  \n",
       "776       0.0      0.0        0.0   0.0          0.0                 0.0  \n",
       "\n",
       "[5 rows x 26 columns]"
      ]
     },
     "execution_count": 5,
     "metadata": {},
     "output_type": "execute_result"
    }
   ],
   "source": [
    "# Merge all genres with the ratings dataframe\n",
    "\n",
    "#uncomment if creating new dataset\n",
    "#df = pd.merge(df, dfGenres, how = \"outer\", on = \"movieID\")\n",
    "#df.to_csv(DataSet + \"/ProcessedDataSmall.csv\", index = False, sep = \";\")\n",
    "\n",
    "df = pd.read_csv(DataSet + \"/ProcessedDataSmall.csv\", sep = \";\")\n",
    "df.sort_values(by=\"userID\").head()"
   ]
  },
  {
   "cell_type": "code",
   "execution_count": 6,
   "metadata": {},
   "outputs": [],
   "source": [
    "dfUserMovie = df.pivot_table(index=\"userID\", columns=\"movieID\", values=\"rating\", fill_value=0)\n",
    "\n",
    "dfUserMovie.to_csv(DataSet + \"/UserMovieMatrixSmall.csv\")"
   ]
  },
  {
   "cell_type": "code",
   "execution_count": 7,
   "metadata": {},
   "outputs": [
    {
     "name": "stdout",
     "output_type": "stream",
     "text": [
      "   Adventure  Animation  Children  Comedy  Fantasy  Romance  Action  Crime  \\\n",
      "0        0.2        0.2       0.2     0.2      0.2      0.0     0.0    0.0   \n",
      "1        0.2        0.2       0.2     0.2      0.2      0.0     0.0    0.0   \n",
      "2        0.2        0.2       0.2     0.2      0.2      0.0     0.0    0.0   \n",
      "3        0.2        0.2       0.2     0.2      0.2      0.0     0.0    0.0   \n",
      "4        0.2        0.2       0.2     0.2      0.2      0.0     0.0    0.0   \n",
      "\n",
      "   Thriller  Mystery  Horror  Drama  War  Western  Sci-Fi  Musical  Film-Noir  \\\n",
      "0       0.0      0.0     0.0    0.0  0.0      0.0     0.0      0.0        0.0   \n",
      "1       0.0      0.0     0.0    0.0  0.0      0.0     0.0      0.0        0.0   \n",
      "2       0.0      0.0     0.0    0.0  0.0      0.0     0.0      0.0        0.0   \n",
      "3       0.0      0.0     0.0    0.0  0.0      0.0     0.0      0.0        0.0   \n",
      "4       0.0      0.0     0.0    0.0  0.0      0.0     0.0      0.0        0.0   \n",
      "\n",
      "   IMAX  Documentary  (no genres listed)  \n",
      "0   0.0          0.0                 0.0  \n",
      "1   0.0          0.0                 0.0  \n",
      "2   0.0          0.0                 0.0  \n",
      "3   0.0          0.0                 0.0  \n",
      "4   0.0          0.0                 0.0  \n",
      "\n",
      "0    0.8\n",
      "1    0.8\n",
      "2    0.9\n",
      "3    0.5\n",
      "4    0.9\n",
      "Name: rating, dtype: float32\n"
     ]
    }
   ],
   "source": [
    "x = df.drop(['userID', 'movieID', 'timestamp', 'rating', \"title\", \"genres\"],axis=1) # drops the labels and text variables\n",
    "y = df['rating'].astype(np.float32)\n",
    "y = y/5\n",
    "x_train, x_test, y_train, y_test = train_test_split(x, y, test_size=0.33, random_state=42)\n",
    "x_train = x_train.sort_index()\n",
    "x_test = x_test.sort_index()\n",
    "y_train = y_train.sort_index()\n",
    "y_test = y_test.sort_index()\n",
    "\n",
    "print(x_train.head())\n",
    "print()\n",
    "print(y_train.head())"
   ]
  },
  {
   "cell_type": "markdown",
   "metadata": {},
   "source": [
    "# Neural Network approach"
   ]
  },
  {
   "cell_type": "code",
   "execution_count": 16,
   "metadata": {
    "scrolled": true
   },
   "outputs": [
    {
     "name": "stdout",
     "output_type": "stream",
     "text": [
      "Train on 60804 samples, validate on 6756 samples\n",
      "Epoch 1/10\n",
      " - 6s - loss: 0.0450 - acc: 0.1395 - val_loss: 0.0566 - val_acc: 0.0594\n",
      "Epoch 2/10\n",
      " - 5s - loss: 0.0430 - acc: 0.1402 - val_loss: 0.0558 - val_acc: 0.0594\n",
      "Epoch 3/10\n",
      " - 5s - loss: 0.0428 - acc: 0.1402 - val_loss: 0.0539 - val_acc: 0.0594\n",
      "Epoch 4/10\n",
      " - 5s - loss: 0.0426 - acc: 0.1402 - val_loss: 0.0565 - val_acc: 0.0594\n",
      "Epoch 5/10\n",
      " - 5s - loss: 0.0425 - acc: 0.1402 - val_loss: 0.0551 - val_acc: 0.0594\n",
      "Epoch 6/10\n",
      " - 6s - loss: 0.0425 - acc: 0.1402 - val_loss: 0.0561 - val_acc: 0.0594\n",
      "Epoch 7/10\n",
      " - 7s - loss: 0.0425 - acc: 0.1402 - val_loss: 0.0559 - val_acc: 0.0594\n",
      "Epoch 8/10\n",
      " - 6s - loss: 0.0425 - acc: 0.1402 - val_loss: 0.0558 - val_acc: 0.0594\n",
      "Epoch 9/10\n",
      " - 5s - loss: 0.0425 - acc: 0.1402 - val_loss: 0.0549 - val_acc: 0.0594\n",
      "Epoch 10/10\n",
      " - 5s - loss: 0.0425 - acc: 0.1402 - val_loss: 0.0553 - val_acc: 0.0594\n"
     ]
    },
    {
     "data": {
      "text/plain": [
       "<tensorflow.python.keras.callbacks.History at 0x2bb307d0828>"
      ]
     },
     "execution_count": 16,
     "metadata": {},
     "output_type": "execute_result"
    }
   ],
   "source": [
    "nh = 64\n",
    "\n",
    "model = tf.keras.models.Sequential([\n",
    "    tf.keras.layers.Dense(nh*2, activation=tf.nn.sigmoid, input_shape=(21,), use_bias = True),\n",
    "    tf.keras.layers.Dropout(0.05),\n",
    "    tf.keras.layers.Dense(nh*1.5, activation=tf.nn.sigmoid, use_bias = True),  \n",
    "    tf.keras.layers.Dense(nh, activation=tf.nn.sigmoid, use_bias = True),  \n",
    "    tf.keras.layers.Dropout(0.5),\n",
    "    tf.keras.layers.Dense(1, activation = tf.nn.sigmoid)\n",
    "])\n",
    "model.compile(optimizer=tf.keras.optimizers.Adam(lr=1e-3, decay=1e-5),\n",
    "              loss=tf.keras.losses.mean_squared_error,\n",
    "              metrics=['accuracy'])\n",
    "\n",
    "model.fit(x_train, y_train, epochs=10, verbose = 2, validation_split = 0.1)"
   ]
  },
  {
   "cell_type": "code",
   "execution_count": 40,
   "metadata": {},
   "outputs": [
    {
     "name": "stdout",
     "output_type": "stream",
     "text": [
      "33276/33276 [==============================] - ETA: 59 - ETA: 2 - ETA:  - ETA:  - ETA:  - ETA:  - ETA:  - ETA:  - ETA:  - ETA:  - ETA:  - ETA:  - ETA:  - ETA:  - ETA:  - ETA:  - ETA:  - ETA:  - ETA:  - 1s 31us/step\n"
     ]
    },
    {
     "data": {
      "text/plain": [
       "[0.043225352522619415, 0.12880153864736754]"
      ]
     },
     "execution_count": 40,
     "metadata": {},
     "output_type": "execute_result"
    }
   ],
   "source": [
    "model.evaluate(x_test, y_test)"
   ]
  },
  {
   "cell_type": "markdown",
   "metadata": {},
   "source": [
    "# Scikit surprise approach\n",
    "https://towardsdatascience.com/building-and-testing-recommender-systems-with-surprise-step-by-step-d4ba702ef80b"
   ]
  },
  {
   "cell_type": "code",
   "execution_count": 10,
   "metadata": {
    "scrolled": false
   },
   "outputs": [
    {
     "name": "stdout",
     "output_type": "stream",
     "text": [
      "Evaluating RMSE, MAE of algorithm SVD on 5 split(s).\n",
      "\n",
      "                  Fold 1  Fold 2  Fold 3  Fold 4  Fold 5  Mean    Std     \n",
      "RMSE (testset)    0.9355  0.9351  0.9310  0.9409  0.9388  0.9363  0.0034  \n",
      "MAE (testset)     0.7391  0.7392  0.7306  0.7430  0.7377  0.7379  0.0041  \n",
      "Fit time          9.61    9.23    7.47    6.63    6.55    7.90    1.29    \n",
      "Test time         0.28    0.27    0.20    0.32    0.20    0.25    0.05    \n"
     ]
    },
    {
     "data": {
      "text/plain": [
       "{'test_rmse': array([0.93554486, 0.93513075, 0.93095526, 0.94086107, 0.93884143]),\n",
       " 'test_mae': array([0.73908881, 0.73924707, 0.7305567 , 0.74300597, 0.73765002]),\n",
       " 'fit_time': (9.614481687545776,\n",
       "  9.2326979637146,\n",
       "  7.4707136154174805,\n",
       "  6.633191108703613,\n",
       "  6.548240900039673),\n",
       " 'test_time': (0.2768423557281494,\n",
       "  0.2688455581665039,\n",
       "  0.19588613510131836,\n",
       "  0.31781625747680664,\n",
       "  0.19590282440185547)}"
      ]
     },
     "execution_count": 10,
     "metadata": {},
     "output_type": "execute_result"
    }
   ],
   "source": [
    "from surprise import SVD\n",
    "from surprise import Dataset\n",
    "from surprise.model_selection import cross_validate\n",
    "\n",
    "# Load the movielens-100k dataset (download it if needed).\n",
    "data = Dataset.load_builtin('ml-100k')\n",
    "\n",
    "# Use the famous SVD algorithm.\n",
    "algo = SVD()\n",
    "\n",
    "# Run 5-fold cross-validation and print results.\n",
    "cross_validate(algo, data, measures=['RMSE', 'MAE'], cv=5, verbose=True)"
   ]
  },
  {
   "cell_type": "code",
   "execution_count": 11,
   "metadata": {},
   "outputs": [
    {
     "ename": "AttributeError",
     "evalue": "'list' object has no attribute 'global_mean'",
     "output_type": "error",
     "traceback": [
      "\u001b[1;31m---------------------------------------------------------------------------\u001b[0m",
      "\u001b[1;31mAttributeError\u001b[0m                            Traceback (most recent call last)",
      "\u001b[1;32m<ipython-input-11-632ee43fde13>\u001b[0m in \u001b[0;36m<module>\u001b[1;34m()\u001b[0m\n\u001b[0;32m      1\u001b[0m \u001b[1;31m# Use the famous SVD algorithm.\u001b[0m\u001b[1;33m\u001b[0m\u001b[1;33m\u001b[0m\u001b[0m\n\u001b[0;32m      2\u001b[0m \u001b[0mmovieSVD\u001b[0m \u001b[1;33m=\u001b[0m \u001b[0mSVD\u001b[0m\u001b[1;33m(\u001b[0m\u001b[1;33m)\u001b[0m\u001b[1;33m\u001b[0m\u001b[0m\n\u001b[1;32m----> 3\u001b[1;33m \u001b[0mmovieSVD\u001b[0m\u001b[1;33m.\u001b[0m\u001b[0mfit\u001b[0m\u001b[1;33m(\u001b[0m\u001b[1;33m[\u001b[0m\u001b[0mx_train\u001b[0m\u001b[1;33m,\u001b[0m \u001b[0my_train\u001b[0m\u001b[1;33m]\u001b[0m\u001b[1;33m)\u001b[0m\u001b[1;33m\u001b[0m\u001b[0m\n\u001b[0m\u001b[0;32m      4\u001b[0m \u001b[1;33m\u001b[0m\u001b[0m\n\u001b[0;32m      5\u001b[0m \u001b[1;31m# test the algorithm\u001b[0m\u001b[1;33m\u001b[0m\u001b[1;33m\u001b[0m\u001b[0m\n",
      "\u001b[1;32mC:\\winPython\\python-3.7.0.amd64\\lib\\site-packages\\surprise\\prediction_algorithms\\matrix_factorization.pyx\u001b[0m in \u001b[0;36msurprise.prediction_algorithms.matrix_factorization.SVD.fit\u001b[1;34m()\u001b[0m\n",
      "\u001b[1;32mC:\\winPython\\python-3.7.0.amd64\\lib\\site-packages\\surprise\\prediction_algorithms\\matrix_factorization.pyx\u001b[0m in \u001b[0;36msurprise.prediction_algorithms.matrix_factorization.SVD.sgd\u001b[1;34m()\u001b[0m\n",
      "\u001b[1;31mAttributeError\u001b[0m: 'list' object has no attribute 'global_mean'"
     ]
    }
   ],
   "source": [
    "# Use the famous SVD algorithm.\n",
    "uid = df.userIDs\n",
    "\n",
    "movieSVD = SVD()\n",
    "movieSVD.fit([x_train, y_train])\n",
    "\n",
    "# test the algorithm\n",
    "movieSVD.test(x_test)"
   ]
  }
 ],
 "metadata": {
  "kernelspec": {
   "display_name": "Python 3",
   "language": "python",
   "name": "python3"
  },
  "language_info": {
   "codemirror_mode": {
    "name": "ipython",
    "version": 3
   },
   "file_extension": ".py",
   "mimetype": "text/x-python",
   "name": "python",
   "nbconvert_exporter": "python",
   "pygments_lexer": "ipython3",
   "version": "3.7.0"
  }
 },
 "nbformat": 4,
 "nbformat_minor": 2
}
